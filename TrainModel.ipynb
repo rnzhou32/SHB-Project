{
  "cells": [
    {
      "cell_type": "markdown",
      "source": [
        "#Training Classifiers"
      ],
      "metadata": {
        "id": "yEh25UyN0u44"
      }
    },
    {
      "cell_type": "markdown",
      "source": [
        "##Clean and split data"
      ],
      "metadata": {
        "id": "vXVW0v9WP9dt"
      }
    },
    {
      "cell_type": "code",
      "source": [
        "import pandas as pd\n",
        "from sklearn.model_selection import train_test_split"
      ],
      "metadata": {
        "id": "SSH_W43w0-T2"
      },
      "execution_count": 1,
      "outputs": []
    },
    {
      "cell_type": "markdown",
      "source": [
        "Drop the time column"
      ],
      "metadata": {
        "id": "biNfUL9F1HTT"
      }
    },
    {
      "cell_type": "markdown",
      "source": [
        "Encode brad's office readings to 0/1"
      ],
      "metadata": {
        "id": "PSkpxC_O1uEs"
      }
    },
    {
      "cell_type": "code",
      "source": [
        "def generate_data(filename):\n",
        "  df = pd.read_csv(filename)\n",
        "  del df[\"Unnamed: 0\"]\n",
        "  df = df.sample(frac=1) #shuffle the dataset using random sampling\n",
        "  df = df.dropna()\n",
        "  labels = df.pop(\"feature\")\n",
        "  #df['ben_illumination'] = df['ben_illumination'].mask(df['ben_illumination']<60,0)\n",
        "  return df,labels\n",
        "\n",
        "def min_max_scaling(column) :\n",
        "  return ( column - column.min() ) / ( column.max() - column.min() )\n",
        "\n",
        "def generate_data_normalized(filename):\n",
        "  df = pd.read_csv(filename)\n",
        "  del df[\"Unnamed: 0\"]\n",
        "  df = df.sample(frac=1) #shuffle the dataset using random sampling\n",
        "  df = df.dropna()\n",
        "  labels = df.pop(\"feature\")\n",
        "\n",
        "  for col in df.columns:\n",
        "    df[col] = min_max_scaling(df[col])\n",
        "\n",
        "  return df,labels"
      ],
      "metadata": {
        "id": "npyDfwJj0yWx"
      },
      "execution_count": 2,
      "outputs": []
    },
    {
      "cell_type": "markdown",
      "source": [
        "##Results Pipeline"
      ],
      "metadata": {
        "id": "yRJQ_6xwV5po"
      }
    },
    {
      "cell_type": "code",
      "source": [
        "from sklearn.svm import SVC\n",
        "from sklearn.neighbors import KNeighborsClassifier\n",
        "from sklearn.naive_bayes import GaussianNB\n",
        "\n",
        "def get_classifier_accuracies(trainDataFile, testDataFile, normalized = False):\n",
        "  if normalized:\n",
        "    X_train, y_train  = generate_data_normalized(trainDataFile)\n",
        "    X_test,  y_test   =  generate_data_normalized(testDataFile)\n",
        "  else:\n",
        "    X_train, y_train  = generate_data(trainDataFile)\n",
        "    X_test,  y_test   =  generate_data(testDataFile)\n",
        "  #SVM\n",
        "  svm_model_linear = SVC(kernel = 'linear', C = 1).fit(X_train, y_train)\n",
        "  accuracy_svm = svm_model_linear.score(X_test, y_test)\n",
        "\n",
        "  #KNN\n",
        "  knn = KNeighborsClassifier(n_neighbors = 35).fit(X_train, y_train)\n",
        "  accuracy_knn = knn.score(X_test, y_test)\n",
        "\n",
        "  #Bayes\n",
        "  gnb = GaussianNB().fit(X_train, y_train)\n",
        "  accuracy_gnb = gnb.score(X_test, y_test)\n",
        "\n",
        "  return accuracy_svm, accuracy_knn, accuracy_gnb"
      ],
      "metadata": {
        "id": "eOsoAXSCV7pn"
      },
      "execution_count": 3,
      "outputs": []
    },
    {
      "cell_type": "markdown",
      "source": [
        "Data w/ Additional Features"
      ],
      "metadata": {
        "id": "i7veUEA7XSGZ"
      }
    },
    {
      "cell_type": "markdown",
      "source": [
        "Data w/ Additional Features + Normalization"
      ],
      "metadata": {
        "id": "ALG6JesIXVbj"
      }
    },
    {
      "cell_type": "markdown",
      "source": [
        "##Results"
      ],
      "metadata": {
        "id": "au3mUIo4uN0n"
      }
    },
    {
      "cell_type": "markdown",
      "source": [
        "### Only sensors in 211"
      ],
      "metadata": {
        "id": "2TdB8E6CuQUK"
      }
    },
    {
      "cell_type": "code",
      "source": [
        "df = pd.read_csv(\"trainData_without.csv\")\n",
        "df.head()"
      ],
      "metadata": {
        "colab": {
          "base_uri": "https://localhost:8080/",
          "height": 204
        },
        "id": "_2qjafEExbRd",
        "outputId": "42e78a43-7937-4725-a5e6-fd95d86a1d77"
      },
      "execution_count": 4,
      "outputs": [
        {
          "output_type": "execute_result",
          "data": {
            "text/plain": [
              "            Unnamed: 0    co2  humidity    temp  pm25   voc  illumination  \\\n",
              "0  2022-08-29 12:00:00  477.0     49.40  21.985   1.0  38.5         12.65   \n",
              "1  2022-08-29 12:00:10  477.5     49.25  22.045   1.0  34.5         12.65   \n",
              "2  2022-08-29 12:00:20  478.0     49.25  22.020   1.0  37.0         12.65   \n",
              "3  2022-08-29 12:00:30  478.0     49.25  22.005   1.0  32.0         12.65   \n",
              "4  2022-08-29 12:00:40  477.5     49.35  21.985   1.0  43.5         12.65   \n",
              "\n",
              "    spla  feature  \n",
              "0  49.85        2  \n",
              "1  49.90        2  \n",
              "2  49.95        2  \n",
              "3  49.90        2  \n",
              "4  49.85        2  "
            ],
            "text/html": [
              "\n",
              "  <div id=\"df-aeefd7f2-6341-44b1-9f11-3688a39ae257\">\n",
              "    <div class=\"colab-df-container\">\n",
              "      <div>\n",
              "<style scoped>\n",
              "    .dataframe tbody tr th:only-of-type {\n",
              "        vertical-align: middle;\n",
              "    }\n",
              "\n",
              "    .dataframe tbody tr th {\n",
              "        vertical-align: top;\n",
              "    }\n",
              "\n",
              "    .dataframe thead th {\n",
              "        text-align: right;\n",
              "    }\n",
              "</style>\n",
              "<table border=\"1\" class=\"dataframe\">\n",
              "  <thead>\n",
              "    <tr style=\"text-align: right;\">\n",
              "      <th></th>\n",
              "      <th>Unnamed: 0</th>\n",
              "      <th>co2</th>\n",
              "      <th>humidity</th>\n",
              "      <th>temp</th>\n",
              "      <th>pm25</th>\n",
              "      <th>voc</th>\n",
              "      <th>illumination</th>\n",
              "      <th>spla</th>\n",
              "      <th>feature</th>\n",
              "    </tr>\n",
              "  </thead>\n",
              "  <tbody>\n",
              "    <tr>\n",
              "      <th>0</th>\n",
              "      <td>2022-08-29 12:00:00</td>\n",
              "      <td>477.0</td>\n",
              "      <td>49.40</td>\n",
              "      <td>21.985</td>\n",
              "      <td>1.0</td>\n",
              "      <td>38.5</td>\n",
              "      <td>12.65</td>\n",
              "      <td>49.85</td>\n",
              "      <td>2</td>\n",
              "    </tr>\n",
              "    <tr>\n",
              "      <th>1</th>\n",
              "      <td>2022-08-29 12:00:10</td>\n",
              "      <td>477.5</td>\n",
              "      <td>49.25</td>\n",
              "      <td>22.045</td>\n",
              "      <td>1.0</td>\n",
              "      <td>34.5</td>\n",
              "      <td>12.65</td>\n",
              "      <td>49.90</td>\n",
              "      <td>2</td>\n",
              "    </tr>\n",
              "    <tr>\n",
              "      <th>2</th>\n",
              "      <td>2022-08-29 12:00:20</td>\n",
              "      <td>478.0</td>\n",
              "      <td>49.25</td>\n",
              "      <td>22.020</td>\n",
              "      <td>1.0</td>\n",
              "      <td>37.0</td>\n",
              "      <td>12.65</td>\n",
              "      <td>49.95</td>\n",
              "      <td>2</td>\n",
              "    </tr>\n",
              "    <tr>\n",
              "      <th>3</th>\n",
              "      <td>2022-08-29 12:00:30</td>\n",
              "      <td>478.0</td>\n",
              "      <td>49.25</td>\n",
              "      <td>22.005</td>\n",
              "      <td>1.0</td>\n",
              "      <td>32.0</td>\n",
              "      <td>12.65</td>\n",
              "      <td>49.90</td>\n",
              "      <td>2</td>\n",
              "    </tr>\n",
              "    <tr>\n",
              "      <th>4</th>\n",
              "      <td>2022-08-29 12:00:40</td>\n",
              "      <td>477.5</td>\n",
              "      <td>49.35</td>\n",
              "      <td>21.985</td>\n",
              "      <td>1.0</td>\n",
              "      <td>43.5</td>\n",
              "      <td>12.65</td>\n",
              "      <td>49.85</td>\n",
              "      <td>2</td>\n",
              "    </tr>\n",
              "  </tbody>\n",
              "</table>\n",
              "</div>\n",
              "      <button class=\"colab-df-convert\" onclick=\"convertToInteractive('df-aeefd7f2-6341-44b1-9f11-3688a39ae257')\"\n",
              "              title=\"Convert this dataframe to an interactive table.\"\n",
              "              style=\"display:none;\">\n",
              "        \n",
              "  <svg xmlns=\"http://www.w3.org/2000/svg\" height=\"24px\"viewBox=\"0 0 24 24\"\n",
              "       width=\"24px\">\n",
              "    <path d=\"M0 0h24v24H0V0z\" fill=\"none\"/>\n",
              "    <path d=\"M18.56 5.44l.94 2.06.94-2.06 2.06-.94-2.06-.94-.94-2.06-.94 2.06-2.06.94zm-11 1L8.5 8.5l.94-2.06 2.06-.94-2.06-.94L8.5 2.5l-.94 2.06-2.06.94zm10 10l.94 2.06.94-2.06 2.06-.94-2.06-.94-.94-2.06-.94 2.06-2.06.94z\"/><path d=\"M17.41 7.96l-1.37-1.37c-.4-.4-.92-.59-1.43-.59-.52 0-1.04.2-1.43.59L10.3 9.45l-7.72 7.72c-.78.78-.78 2.05 0 2.83L4 21.41c.39.39.9.59 1.41.59.51 0 1.02-.2 1.41-.59l7.78-7.78 2.81-2.81c.8-.78.8-2.07 0-2.86zM5.41 20L4 18.59l7.72-7.72 1.47 1.35L5.41 20z\"/>\n",
              "  </svg>\n",
              "      </button>\n",
              "      \n",
              "  <style>\n",
              "    .colab-df-container {\n",
              "      display:flex;\n",
              "      flex-wrap:wrap;\n",
              "      gap: 12px;\n",
              "    }\n",
              "\n",
              "    .colab-df-convert {\n",
              "      background-color: #E8F0FE;\n",
              "      border: none;\n",
              "      border-radius: 50%;\n",
              "      cursor: pointer;\n",
              "      display: none;\n",
              "      fill: #1967D2;\n",
              "      height: 32px;\n",
              "      padding: 0 0 0 0;\n",
              "      width: 32px;\n",
              "    }\n",
              "\n",
              "    .colab-df-convert:hover {\n",
              "      background-color: #E2EBFA;\n",
              "      box-shadow: 0px 1px 2px rgba(60, 64, 67, 0.3), 0px 1px 3px 1px rgba(60, 64, 67, 0.15);\n",
              "      fill: #174EA6;\n",
              "    }\n",
              "\n",
              "    [theme=dark] .colab-df-convert {\n",
              "      background-color: #3B4455;\n",
              "      fill: #D2E3FC;\n",
              "    }\n",
              "\n",
              "    [theme=dark] .colab-df-convert:hover {\n",
              "      background-color: #434B5C;\n",
              "      box-shadow: 0px 1px 3px 1px rgba(0, 0, 0, 0.15);\n",
              "      filter: drop-shadow(0px 1px 2px rgba(0, 0, 0, 0.3));\n",
              "      fill: #FFFFFF;\n",
              "    }\n",
              "  </style>\n",
              "\n",
              "      <script>\n",
              "        const buttonEl =\n",
              "          document.querySelector('#df-aeefd7f2-6341-44b1-9f11-3688a39ae257 button.colab-df-convert');\n",
              "        buttonEl.style.display =\n",
              "          google.colab.kernel.accessAllowed ? 'block' : 'none';\n",
              "\n",
              "        async function convertToInteractive(key) {\n",
              "          const element = document.querySelector('#df-aeefd7f2-6341-44b1-9f11-3688a39ae257');\n",
              "          const dataTable =\n",
              "            await google.colab.kernel.invokeFunction('convertToInteractive',\n",
              "                                                     [key], {});\n",
              "          if (!dataTable) return;\n",
              "\n",
              "          const docLinkHtml = 'Like what you see? Visit the ' +\n",
              "            '<a target=\"_blank\" href=https://colab.research.google.com/notebooks/data_table.ipynb>data table notebook</a>'\n",
              "            + ' to learn more about interactive tables.';\n",
              "          element.innerHTML = '';\n",
              "          dataTable['output_type'] = 'display_data';\n",
              "          await google.colab.output.renderOutput(dataTable, element);\n",
              "          const docLink = document.createElement('div');\n",
              "          docLink.innerHTML = docLinkHtml;\n",
              "          element.appendChild(docLink);\n",
              "        }\n",
              "      </script>\n",
              "    </div>\n",
              "  </div>\n",
              "  "
            ]
          },
          "metadata": {},
          "execution_count": 4
        }
      ]
    },
    {
      "cell_type": "markdown",
      "source": [
        "Normalized"
      ],
      "metadata": {
        "id": "P_ffK7VEuYsR"
      }
    },
    {
      "cell_type": "code",
      "source": [
        "svm, knn, gnb = get_classifier_accuracies(\"trainData_without.csv\",\"testData_without.csv\", True)\n",
        "print(\"Model         Accuracy\")\n",
        "print(\"Norm SVM     \",svm)\n",
        "print(\"Norm KNN     \",knn)\n",
        "print(\"Norm Bayes   \",gnb)"
      ],
      "metadata": {
        "id": "0B89FHnNuPaA",
        "colab": {
          "base_uri": "https://localhost:8080/"
        },
        "outputId": "97872f35-a05a-4d6b-cfa3-ab97c1528882"
      },
      "execution_count": 5,
      "outputs": [
        {
          "output_type": "stream",
          "name": "stdout",
          "text": [
            "Model         Accuracy\n",
            "Norm SVM      0.40711175616835993\n",
            "Norm KNN      0.4259796806966618\n",
            "Norm Bayes    0.2409288824383164\n"
          ]
        }
      ]
    },
    {
      "cell_type": "markdown",
      "source": [
        "Non-normalized"
      ],
      "metadata": {
        "id": "2HgxmNm4uaPF"
      }
    },
    {
      "cell_type": "code",
      "source": [
        "svm, knn, gnb = get_classifier_accuracies(\"trainData_without.csv\",\"testData_without.csv\", False)\n",
        "print(\"Model       Accuracy\")\n",
        "print(\"SVM        \",svm)\n",
        "print(\"KNN        \",knn)\n",
        "print(\"Bayes      \",gnb)"
      ],
      "metadata": {
        "colab": {
          "base_uri": "https://localhost:8080/"
        },
        "id": "BMWx8OAhucgZ",
        "outputId": "1b365387-73a8-43d6-f171-a93e3a811362"
      },
      "execution_count": 6,
      "outputs": [
        {
          "output_type": "stream",
          "name": "stdout",
          "text": [
            "Model       Accuracy\n",
            "SVM         0.49129172714078373\n",
            "KNN         0.3193033381712627\n",
            "Bayes       0.4771407837445573\n"
          ]
        }
      ]
    },
    {
      "cell_type": "markdown",
      "source": [
        "###Augmented sensor readings"
      ],
      "metadata": {
        "id": "URNdmhbXuUVN"
      }
    },
    {
      "cell_type": "code",
      "source": [
        "df = pd.read_csv(\"trainData.csv\")\n",
        "df.head()"
      ],
      "metadata": {
        "colab": {
          "base_uri": "https://localhost:8080/",
          "height": 455
        },
        "id": "a5PQAOJexhLB",
        "outputId": "85ee3209-f03e-44ab-b14b-9e1e3380b043"
      },
      "execution_count": 8,
      "outputs": [
        {
          "output_type": "execute_result",
          "data": {
            "text/plain": [
              "            Unnamed: 0    co2  humidity    temp  pm25   voc  illumination  \\\n",
              "0  2022-08-29 12:00:00  477.0     49.40  21.985   1.0  38.5         12.65   \n",
              "1  2022-08-29 12:00:10  477.5     49.25  22.045   1.0  34.5         12.65   \n",
              "2  2022-08-29 12:00:20  478.0     49.25  22.020   1.0  37.0         12.65   \n",
              "3  2022-08-29 12:00:30  478.0     49.25  22.005   1.0  32.0         12.65   \n",
              "4  2022-08-29 12:00:40  477.5     49.35  21.985   1.0  43.5         12.65   \n",
              "\n",
              "    spla  ben_illumination  ben_spla  brad_office  feature  \n",
              "0  49.85              56.0      52.7          0.0        2  \n",
              "1  49.90              56.0      52.7          0.0        2  \n",
              "2  49.95              56.0      52.8          0.0        2  \n",
              "3  49.90              56.0      52.8          0.0        2  \n",
              "4  49.85              56.0      52.8          0.0        2  "
            ],
            "text/html": [
              "\n",
              "  <div id=\"df-20fb8124-6894-4446-932e-b461d968832c\">\n",
              "    <div class=\"colab-df-container\">\n",
              "      <div>\n",
              "<style scoped>\n",
              "    .dataframe tbody tr th:only-of-type {\n",
              "        vertical-align: middle;\n",
              "    }\n",
              "\n",
              "    .dataframe tbody tr th {\n",
              "        vertical-align: top;\n",
              "    }\n",
              "\n",
              "    .dataframe thead th {\n",
              "        text-align: right;\n",
              "    }\n",
              "</style>\n",
              "<table border=\"1\" class=\"dataframe\">\n",
              "  <thead>\n",
              "    <tr style=\"text-align: right;\">\n",
              "      <th></th>\n",
              "      <th>Unnamed: 0</th>\n",
              "      <th>co2</th>\n",
              "      <th>humidity</th>\n",
              "      <th>temp</th>\n",
              "      <th>pm25</th>\n",
              "      <th>voc</th>\n",
              "      <th>illumination</th>\n",
              "      <th>spla</th>\n",
              "      <th>ben_illumination</th>\n",
              "      <th>ben_spla</th>\n",
              "      <th>brad_office</th>\n",
              "      <th>feature</th>\n",
              "    </tr>\n",
              "  </thead>\n",
              "  <tbody>\n",
              "    <tr>\n",
              "      <th>0</th>\n",
              "      <td>2022-08-29 12:00:00</td>\n",
              "      <td>477.0</td>\n",
              "      <td>49.40</td>\n",
              "      <td>21.985</td>\n",
              "      <td>1.0</td>\n",
              "      <td>38.5</td>\n",
              "      <td>12.65</td>\n",
              "      <td>49.85</td>\n",
              "      <td>56.0</td>\n",
              "      <td>52.7</td>\n",
              "      <td>0.0</td>\n",
              "      <td>2</td>\n",
              "    </tr>\n",
              "    <tr>\n",
              "      <th>1</th>\n",
              "      <td>2022-08-29 12:00:10</td>\n",
              "      <td>477.5</td>\n",
              "      <td>49.25</td>\n",
              "      <td>22.045</td>\n",
              "      <td>1.0</td>\n",
              "      <td>34.5</td>\n",
              "      <td>12.65</td>\n",
              "      <td>49.90</td>\n",
              "      <td>56.0</td>\n",
              "      <td>52.7</td>\n",
              "      <td>0.0</td>\n",
              "      <td>2</td>\n",
              "    </tr>\n",
              "    <tr>\n",
              "      <th>2</th>\n",
              "      <td>2022-08-29 12:00:20</td>\n",
              "      <td>478.0</td>\n",
              "      <td>49.25</td>\n",
              "      <td>22.020</td>\n",
              "      <td>1.0</td>\n",
              "      <td>37.0</td>\n",
              "      <td>12.65</td>\n",
              "      <td>49.95</td>\n",
              "      <td>56.0</td>\n",
              "      <td>52.8</td>\n",
              "      <td>0.0</td>\n",
              "      <td>2</td>\n",
              "    </tr>\n",
              "    <tr>\n",
              "      <th>3</th>\n",
              "      <td>2022-08-29 12:00:30</td>\n",
              "      <td>478.0</td>\n",
              "      <td>49.25</td>\n",
              "      <td>22.005</td>\n",
              "      <td>1.0</td>\n",
              "      <td>32.0</td>\n",
              "      <td>12.65</td>\n",
              "      <td>49.90</td>\n",
              "      <td>56.0</td>\n",
              "      <td>52.8</td>\n",
              "      <td>0.0</td>\n",
              "      <td>2</td>\n",
              "    </tr>\n",
              "    <tr>\n",
              "      <th>4</th>\n",
              "      <td>2022-08-29 12:00:40</td>\n",
              "      <td>477.5</td>\n",
              "      <td>49.35</td>\n",
              "      <td>21.985</td>\n",
              "      <td>1.0</td>\n",
              "      <td>43.5</td>\n",
              "      <td>12.65</td>\n",
              "      <td>49.85</td>\n",
              "      <td>56.0</td>\n",
              "      <td>52.8</td>\n",
              "      <td>0.0</td>\n",
              "      <td>2</td>\n",
              "    </tr>\n",
              "  </tbody>\n",
              "</table>\n",
              "</div>\n",
              "      <button class=\"colab-df-convert\" onclick=\"convertToInteractive('df-20fb8124-6894-4446-932e-b461d968832c')\"\n",
              "              title=\"Convert this dataframe to an interactive table.\"\n",
              "              style=\"display:none;\">\n",
              "        \n",
              "  <svg xmlns=\"http://www.w3.org/2000/svg\" height=\"24px\"viewBox=\"0 0 24 24\"\n",
              "       width=\"24px\">\n",
              "    <path d=\"M0 0h24v24H0V0z\" fill=\"none\"/>\n",
              "    <path d=\"M18.56 5.44l.94 2.06.94-2.06 2.06-.94-2.06-.94-.94-2.06-.94 2.06-2.06.94zm-11 1L8.5 8.5l.94-2.06 2.06-.94-2.06-.94L8.5 2.5l-.94 2.06-2.06.94zm10 10l.94 2.06.94-2.06 2.06-.94-2.06-.94-.94-2.06-.94 2.06-2.06.94z\"/><path d=\"M17.41 7.96l-1.37-1.37c-.4-.4-.92-.59-1.43-.59-.52 0-1.04.2-1.43.59L10.3 9.45l-7.72 7.72c-.78.78-.78 2.05 0 2.83L4 21.41c.39.39.9.59 1.41.59.51 0 1.02-.2 1.41-.59l7.78-7.78 2.81-2.81c.8-.78.8-2.07 0-2.86zM5.41 20L4 18.59l7.72-7.72 1.47 1.35L5.41 20z\"/>\n",
              "  </svg>\n",
              "      </button>\n",
              "      \n",
              "  <style>\n",
              "    .colab-df-container {\n",
              "      display:flex;\n",
              "      flex-wrap:wrap;\n",
              "      gap: 12px;\n",
              "    }\n",
              "\n",
              "    .colab-df-convert {\n",
              "      background-color: #E8F0FE;\n",
              "      border: none;\n",
              "      border-radius: 50%;\n",
              "      cursor: pointer;\n",
              "      display: none;\n",
              "      fill: #1967D2;\n",
              "      height: 32px;\n",
              "      padding: 0 0 0 0;\n",
              "      width: 32px;\n",
              "    }\n",
              "\n",
              "    .colab-df-convert:hover {\n",
              "      background-color: #E2EBFA;\n",
              "      box-shadow: 0px 1px 2px rgba(60, 64, 67, 0.3), 0px 1px 3px 1px rgba(60, 64, 67, 0.15);\n",
              "      fill: #174EA6;\n",
              "    }\n",
              "\n",
              "    [theme=dark] .colab-df-convert {\n",
              "      background-color: #3B4455;\n",
              "      fill: #D2E3FC;\n",
              "    }\n",
              "\n",
              "    [theme=dark] .colab-df-convert:hover {\n",
              "      background-color: #434B5C;\n",
              "      box-shadow: 0px 1px 3px 1px rgba(0, 0, 0, 0.15);\n",
              "      filter: drop-shadow(0px 1px 2px rgba(0, 0, 0, 0.3));\n",
              "      fill: #FFFFFF;\n",
              "    }\n",
              "  </style>\n",
              "\n",
              "      <script>\n",
              "        const buttonEl =\n",
              "          document.querySelector('#df-20fb8124-6894-4446-932e-b461d968832c button.colab-df-convert');\n",
              "        buttonEl.style.display =\n",
              "          google.colab.kernel.accessAllowed ? 'block' : 'none';\n",
              "\n",
              "        async function convertToInteractive(key) {\n",
              "          const element = document.querySelector('#df-20fb8124-6894-4446-932e-b461d968832c');\n",
              "          const dataTable =\n",
              "            await google.colab.kernel.invokeFunction('convertToInteractive',\n",
              "                                                     [key], {});\n",
              "          if (!dataTable) return;\n",
              "\n",
              "          const docLinkHtml = 'Like what you see? Visit the ' +\n",
              "            '<a target=\"_blank\" href=https://colab.research.google.com/notebooks/data_table.ipynb>data table notebook</a>'\n",
              "            + ' to learn more about interactive tables.';\n",
              "          element.innerHTML = '';\n",
              "          dataTable['output_type'] = 'display_data';\n",
              "          await google.colab.output.renderOutput(dataTable, element);\n",
              "          const docLink = document.createElement('div');\n",
              "          docLink.innerHTML = docLinkHtml;\n",
              "          element.appendChild(docLink);\n",
              "        }\n",
              "      </script>\n",
              "    </div>\n",
              "  </div>\n",
              "  "
            ]
          },
          "metadata": {},
          "execution_count": 8
        }
      ]
    },
    {
      "cell_type": "markdown",
      "source": [
        "Normalized"
      ],
      "metadata": {
        "id": "4kCBKRw7ubNV"
      }
    },
    {
      "cell_type": "code",
      "source": [
        "svm, knn, gnb = get_classifier_accuracies(\"trainData.csv\",\"testData.csv\", normalized = True)\n",
        "print(\"Model         Accuracy\")\n",
        "print(\"Norm SVM     \",svm)\n",
        "print(\"Norm KNN     \",knn)\n",
        "print(\"Norm Bayes   \",gnb)"
      ],
      "metadata": {
        "colab": {
          "base_uri": "https://localhost:8080/"
        },
        "id": "wBHVdeKVuezZ",
        "outputId": "747e0670-3211-4e3e-a32b-7b5108dfa0a7"
      },
      "execution_count": 9,
      "outputs": [
        {
          "output_type": "stream",
          "name": "stdout",
          "text": [
            "Model         Accuracy\n",
            "Norm SVM      0.36468129571577845\n",
            "Norm KNN      0.26227795193312436\n",
            "Norm Bayes    0.21839080459770116\n"
          ]
        }
      ]
    },
    {
      "cell_type": "markdown",
      "source": [
        "Non-normalized"
      ],
      "metadata": {
        "id": "qzIJSC-1ufOo"
      }
    },
    {
      "cell_type": "code",
      "source": [
        "svm, knn, gnb = get_classifier_accuracies(\"trainData.csv\",\"testData.csv\")\n",
        "print(\"Model       Accuracy\")\n",
        "print(\"SVM        \",svm)\n",
        "print(\"KNN        \",knn)\n",
        "print(\"Bayes      \",gnb)"
      ],
      "metadata": {
        "colab": {
          "base_uri": "https://localhost:8080/"
        },
        "id": "PLmhbHasugSv",
        "outputId": "30788be7-03f0-47d6-9b0f-ab21e2bb02ab"
      },
      "execution_count": 10,
      "outputs": [
        {
          "output_type": "stream",
          "name": "stdout",
          "text": [
            "Model       Accuracy\n",
            "SVM         0.4994775339602926\n",
            "KNN         0.625914315569488\n",
            "Bayes       0.44200626959247646\n"
          ]
        }
      ]
    },
    {
      "cell_type": "markdown",
      "source": [
        "### BRAD ONLY"
      ],
      "metadata": {
        "id": "1AuNVkDgIwbL"
      }
    },
    {
      "cell_type": "code",
      "source": [
        "df = pd.read_csv(\"trainData_brad.csv\")\n",
        "df.head()"
      ],
      "metadata": {
        "colab": {
          "base_uri": "https://localhost:8080/",
          "height": 204
        },
        "id": "XUAspvuMJ76M",
        "outputId": "a8959c1b-6b27-408c-9fb6-c6b8bbe23602"
      },
      "execution_count": 11,
      "outputs": [
        {
          "output_type": "execute_result",
          "data": {
            "text/plain": [
              "            Unnamed: 0    co2  humidity    temp  pm25   voc  illumination  \\\n",
              "0  2022-08-29 12:00:00  477.0     49.40  21.985   1.0  38.5         12.65   \n",
              "1  2022-08-29 12:00:10  477.5     49.25  22.045   1.0  34.5         12.65   \n",
              "2  2022-08-29 12:00:20  478.0     49.25  22.020   1.0  37.0         12.65   \n",
              "3  2022-08-29 12:00:30  478.0     49.25  22.005   1.0  32.0         12.65   \n",
              "4  2022-08-29 12:00:40  477.5     49.35  21.985   1.0  43.5         12.65   \n",
              "\n",
              "    spla  brad_office  feature  \n",
              "0  49.85          0.0        2  \n",
              "1  49.90          0.0        2  \n",
              "2  49.95          0.0        2  \n",
              "3  49.90          0.0        2  \n",
              "4  49.85          0.0        2  "
            ],
            "text/html": [
              "\n",
              "  <div id=\"df-81a1c635-1cad-405e-b4ac-f7fcc07a858b\">\n",
              "    <div class=\"colab-df-container\">\n",
              "      <div>\n",
              "<style scoped>\n",
              "    .dataframe tbody tr th:only-of-type {\n",
              "        vertical-align: middle;\n",
              "    }\n",
              "\n",
              "    .dataframe tbody tr th {\n",
              "        vertical-align: top;\n",
              "    }\n",
              "\n",
              "    .dataframe thead th {\n",
              "        text-align: right;\n",
              "    }\n",
              "</style>\n",
              "<table border=\"1\" class=\"dataframe\">\n",
              "  <thead>\n",
              "    <tr style=\"text-align: right;\">\n",
              "      <th></th>\n",
              "      <th>Unnamed: 0</th>\n",
              "      <th>co2</th>\n",
              "      <th>humidity</th>\n",
              "      <th>temp</th>\n",
              "      <th>pm25</th>\n",
              "      <th>voc</th>\n",
              "      <th>illumination</th>\n",
              "      <th>spla</th>\n",
              "      <th>brad_office</th>\n",
              "      <th>feature</th>\n",
              "    </tr>\n",
              "  </thead>\n",
              "  <tbody>\n",
              "    <tr>\n",
              "      <th>0</th>\n",
              "      <td>2022-08-29 12:00:00</td>\n",
              "      <td>477.0</td>\n",
              "      <td>49.40</td>\n",
              "      <td>21.985</td>\n",
              "      <td>1.0</td>\n",
              "      <td>38.5</td>\n",
              "      <td>12.65</td>\n",
              "      <td>49.85</td>\n",
              "      <td>0.0</td>\n",
              "      <td>2</td>\n",
              "    </tr>\n",
              "    <tr>\n",
              "      <th>1</th>\n",
              "      <td>2022-08-29 12:00:10</td>\n",
              "      <td>477.5</td>\n",
              "      <td>49.25</td>\n",
              "      <td>22.045</td>\n",
              "      <td>1.0</td>\n",
              "      <td>34.5</td>\n",
              "      <td>12.65</td>\n",
              "      <td>49.90</td>\n",
              "      <td>0.0</td>\n",
              "      <td>2</td>\n",
              "    </tr>\n",
              "    <tr>\n",
              "      <th>2</th>\n",
              "      <td>2022-08-29 12:00:20</td>\n",
              "      <td>478.0</td>\n",
              "      <td>49.25</td>\n",
              "      <td>22.020</td>\n",
              "      <td>1.0</td>\n",
              "      <td>37.0</td>\n",
              "      <td>12.65</td>\n",
              "      <td>49.95</td>\n",
              "      <td>0.0</td>\n",
              "      <td>2</td>\n",
              "    </tr>\n",
              "    <tr>\n",
              "      <th>3</th>\n",
              "      <td>2022-08-29 12:00:30</td>\n",
              "      <td>478.0</td>\n",
              "      <td>49.25</td>\n",
              "      <td>22.005</td>\n",
              "      <td>1.0</td>\n",
              "      <td>32.0</td>\n",
              "      <td>12.65</td>\n",
              "      <td>49.90</td>\n",
              "      <td>0.0</td>\n",
              "      <td>2</td>\n",
              "    </tr>\n",
              "    <tr>\n",
              "      <th>4</th>\n",
              "      <td>2022-08-29 12:00:40</td>\n",
              "      <td>477.5</td>\n",
              "      <td>49.35</td>\n",
              "      <td>21.985</td>\n",
              "      <td>1.0</td>\n",
              "      <td>43.5</td>\n",
              "      <td>12.65</td>\n",
              "      <td>49.85</td>\n",
              "      <td>0.0</td>\n",
              "      <td>2</td>\n",
              "    </tr>\n",
              "  </tbody>\n",
              "</table>\n",
              "</div>\n",
              "      <button class=\"colab-df-convert\" onclick=\"convertToInteractive('df-81a1c635-1cad-405e-b4ac-f7fcc07a858b')\"\n",
              "              title=\"Convert this dataframe to an interactive table.\"\n",
              "              style=\"display:none;\">\n",
              "        \n",
              "  <svg xmlns=\"http://www.w3.org/2000/svg\" height=\"24px\"viewBox=\"0 0 24 24\"\n",
              "       width=\"24px\">\n",
              "    <path d=\"M0 0h24v24H0V0z\" fill=\"none\"/>\n",
              "    <path d=\"M18.56 5.44l.94 2.06.94-2.06 2.06-.94-2.06-.94-.94-2.06-.94 2.06-2.06.94zm-11 1L8.5 8.5l.94-2.06 2.06-.94-2.06-.94L8.5 2.5l-.94 2.06-2.06.94zm10 10l.94 2.06.94-2.06 2.06-.94-2.06-.94-.94-2.06-.94 2.06-2.06.94z\"/><path d=\"M17.41 7.96l-1.37-1.37c-.4-.4-.92-.59-1.43-.59-.52 0-1.04.2-1.43.59L10.3 9.45l-7.72 7.72c-.78.78-.78 2.05 0 2.83L4 21.41c.39.39.9.59 1.41.59.51 0 1.02-.2 1.41-.59l7.78-7.78 2.81-2.81c.8-.78.8-2.07 0-2.86zM5.41 20L4 18.59l7.72-7.72 1.47 1.35L5.41 20z\"/>\n",
              "  </svg>\n",
              "      </button>\n",
              "      \n",
              "  <style>\n",
              "    .colab-df-container {\n",
              "      display:flex;\n",
              "      flex-wrap:wrap;\n",
              "      gap: 12px;\n",
              "    }\n",
              "\n",
              "    .colab-df-convert {\n",
              "      background-color: #E8F0FE;\n",
              "      border: none;\n",
              "      border-radius: 50%;\n",
              "      cursor: pointer;\n",
              "      display: none;\n",
              "      fill: #1967D2;\n",
              "      height: 32px;\n",
              "      padding: 0 0 0 0;\n",
              "      width: 32px;\n",
              "    }\n",
              "\n",
              "    .colab-df-convert:hover {\n",
              "      background-color: #E2EBFA;\n",
              "      box-shadow: 0px 1px 2px rgba(60, 64, 67, 0.3), 0px 1px 3px 1px rgba(60, 64, 67, 0.15);\n",
              "      fill: #174EA6;\n",
              "    }\n",
              "\n",
              "    [theme=dark] .colab-df-convert {\n",
              "      background-color: #3B4455;\n",
              "      fill: #D2E3FC;\n",
              "    }\n",
              "\n",
              "    [theme=dark] .colab-df-convert:hover {\n",
              "      background-color: #434B5C;\n",
              "      box-shadow: 0px 1px 3px 1px rgba(0, 0, 0, 0.15);\n",
              "      filter: drop-shadow(0px 1px 2px rgba(0, 0, 0, 0.3));\n",
              "      fill: #FFFFFF;\n",
              "    }\n",
              "  </style>\n",
              "\n",
              "      <script>\n",
              "        const buttonEl =\n",
              "          document.querySelector('#df-81a1c635-1cad-405e-b4ac-f7fcc07a858b button.colab-df-convert');\n",
              "        buttonEl.style.display =\n",
              "          google.colab.kernel.accessAllowed ? 'block' : 'none';\n",
              "\n",
              "        async function convertToInteractive(key) {\n",
              "          const element = document.querySelector('#df-81a1c635-1cad-405e-b4ac-f7fcc07a858b');\n",
              "          const dataTable =\n",
              "            await google.colab.kernel.invokeFunction('convertToInteractive',\n",
              "                                                     [key], {});\n",
              "          if (!dataTable) return;\n",
              "\n",
              "          const docLinkHtml = 'Like what you see? Visit the ' +\n",
              "            '<a target=\"_blank\" href=https://colab.research.google.com/notebooks/data_table.ipynb>data table notebook</a>'\n",
              "            + ' to learn more about interactive tables.';\n",
              "          element.innerHTML = '';\n",
              "          dataTable['output_type'] = 'display_data';\n",
              "          await google.colab.output.renderOutput(dataTable, element);\n",
              "          const docLink = document.createElement('div');\n",
              "          docLink.innerHTML = docLinkHtml;\n",
              "          element.appendChild(docLink);\n",
              "        }\n",
              "      </script>\n",
              "    </div>\n",
              "  </div>\n",
              "  "
            ]
          },
          "metadata": {},
          "execution_count": 11
        }
      ]
    },
    {
      "cell_type": "code",
      "source": [
        "svm, knn, gnb = get_classifier_accuracies(\"trainData_brad.csv\",\"testData_brad.csv\", normalized = True)\n",
        "print(\"Model         Accuracy\")\n",
        "print(\"Norm SVM     \",svm)\n",
        "print(\"Norm KNN     \",knn)\n",
        "print(\"Norm Bayes   \",gnb)"
      ],
      "metadata": {
        "colab": {
          "base_uri": "https://localhost:8080/"
        },
        "id": "6dLP8coeJcow",
        "outputId": "fcf5dc20-48a8-4007-b87b-efc6c9a93997"
      },
      "execution_count": 12,
      "outputs": [
        {
          "output_type": "stream",
          "name": "stdout",
          "text": [
            "Model         Accuracy\n",
            "Norm SVM      0.41799709724238027\n",
            "Norm KNN      0.4350507982583454\n",
            "Norm Bayes    0.22786647314949202\n"
          ]
        }
      ]
    },
    {
      "cell_type": "code",
      "source": [
        "svm, knn, gnb = get_classifier_accuracies(\"trainData_brad.csv\",\"testData_brad.csv\")\n",
        "print(\"Model       Accuracy\")\n",
        "print(\"SVM        \",svm)\n",
        "print(\"KNN        \",knn)\n",
        "print(\"Bayes      \",gnb)"
      ],
      "metadata": {
        "colab": {
          "base_uri": "https://localhost:8080/"
        },
        "id": "5JTJlqk_Ji-7",
        "outputId": "d89cbf18-65dc-42dc-bf45-a49af3b8da76"
      },
      "execution_count": 13,
      "outputs": [
        {
          "output_type": "stream",
          "name": "stdout",
          "text": [
            "Model       Accuracy\n",
            "SVM         0.49310595065312046\n",
            "KNN         0.3189404934687954\n",
            "Bayes       0.48548621190130625\n"
          ]
        }
      ]
    }
  ],
  "metadata": {
    "accelerator": "GPU",
    "colab": {
      "machine_shape": "hm",
      "provenance": []
    },
    "kernelspec": {
      "display_name": "Python 3",
      "name": "python3"
    },
    "language_info": {
      "name": "python"
    }
  },
  "nbformat": 4,
  "nbformat_minor": 0
}